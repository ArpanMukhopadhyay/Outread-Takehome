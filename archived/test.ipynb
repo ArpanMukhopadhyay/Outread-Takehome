{
 "cells": [
  {
   "cell_type": "code",
   "execution_count": 52,
   "metadata": {},
   "outputs": [],
   "source": [
    "import numpy as np \n",
    "import pandas as pd\n",
    "import requests\n",
    "from PyPDF2 import PdfReader\n",
    "from bs4 import BeautifulSoup\n",
    "from urllib.parse import unquote\n",
    "import getpass\n",
    "import re\n",
    "import tqdm\n",
    "import os\n",
    "from fpdf import FPDF\n",
    "import nltk\n",
    "from nltk.corpus import stopwords\n",
    "from nltk.tokenize import word_tokenize\n",
    "from nltk.stem import WordNetLemmatizer\n",
    "from sklearn.feature_extraction.text import TfidfVectorizer, CountVectorizer\n",
    "from sklearn.cluster import KMeans\n",
    "from sklearn.decomposition import PCA\n",
    "import matplotlib.pyplot as plt\n",
    "from sklearn.metrics import silhouette_score, davies_bouldin_score, calinski_harabasz_score"
   ]
  },
  {
   "cell_type": "code",
   "execution_count": 2,
   "metadata": {},
   "outputs": [
    {
     "name": "stdout",
     "output_type": "stream",
     "text": [
      "<bound method NDFrame.head of                                                  Name  \\\n",
      "0   Recent advances in ammonia synthesis technolog...   \n",
      "1   Co doping regulating electronic structure of B...   \n",
      "2   A Prompt Decarbonization Pathway for Shipping:...   \n",
      "3   Utilization of green ammonia as a hydrogen ene...   \n",
      "4   Defective TiO2-x for High-Performance Electroc...   \n",
      "..                                                ...   \n",
      "77  A comprehensive study of renewable energy sour...   \n",
      "78  Data-driven probabilistic machine learning in ...   \n",
      "79  Semi-supervised adversarial discriminative lea...   \n",
      "80  Model Predictive Current Control of Nine-Phase...   \n",
      "81  Risk-constrained stochastic scheduling for ene...   \n",
      "\n",
      "                                                 DOI  \n",
      "0   http://dx.doi.org/10.1016/j.ijhydene.2022.09.061  \n",
      "1     http://dx.doi.org/10.1016/j.apcatb.2023.123057  \n",
      "2            http://dx.doi.org/10.3390/atmos14030584  \n",
      "3   http://dx.doi.org/10.1016/j.ijhydene.2023.04.073  \n",
      "4           http://dx.doi.org/10.1002/smll.202300291  \n",
      "..                                               ...  \n",
      "77       http://dx.doi.org/10.1016/j.esr.2022.100939  \n",
      "78      http://dx.doi.org/10.1016/j.rser.2022.112128  \n",
      "79       http://dx.doi.org/10.1016/j.ins.2023.119496  \n",
      "80        http://dx.doi.org/10.1109/TIE.2022.3174241  \n",
      "81    http://dx.doi.org/10.1016/j.energy.2023.129680  \n",
      "\n",
      "[82 rows x 2 columns]>\n"
     ]
    }
   ],
   "source": [
    "df = pd.read_csv('data.csv')\n",
    "print(df.head)"
   ]
  },
  {
   "cell_type": "code",
   "execution_count": 3,
   "metadata": {},
   "outputs": [],
   "source": [
    "# def fetch_abstract(doi):\n",
    "#     url = f\"https://api.crossref.org/works/{doi}\"\n",
    "#     response = requests.get(url)\n",
    "#     if response.status_code == 200:\n",
    "#         data = response.json()\n",
    "#         return data['message'].get('abstract', 'fail')"
   ]
  },
  {
   "cell_type": "code",
   "execution_count": 4,
   "metadata": {},
   "outputs": [
    {
     "name": "stdout",
     "output_type": "stream",
     "text": [
      "Fetched abstract for: Recent advances in ammonia synthesis technologies: Toward future zero carbon emissions\n",
      "Fetched abstract for: Co doping regulating electronic structure of Bi2MoO6 to construct dual active sites for photocatalytic nitrogen fixation\n",
      "Fetched abstract for: A Prompt Decarbonization Pathway for Shipping: Green Hydrogen, Ammonia, and Methanol Production and Utilization in Marine Engines\n",
      "Fetched abstract for: Utilization of green ammonia as a hydrogen energy carrier for decarbonization in spark ignition engines\n",
      "Fetched abstract for: Defective TiO2-x for High-Performance Electrocatalytic NO Reduction toward Ambient NH3 Production\n",
      "Fetched abstract for: Techno-economic assessment of green hydrogen and ammonia production from wind and solar energy in Iran\n",
      "Fetched abstract for: Estimating global production and supply costs for green hydrogen and hydrogen-based green energy commodities\n",
      "Fetched abstract for: A Perspective on the Overarching Role of Hydrogen, Ammonia, and Methanol Carbon-Neutral Fuels towards Net Zero Emission in the Next Three Decades\n",
      "Fetched abstract for: The economics of global green ammonia trade - Shipping Australian wind and sunshine to Germany\n",
      "Fetched abstract for: Techno-economic evaluation of hydrogen and ammonia as energy carriers in a multi-generation system\n",
      "Fetched abstract for: Potential-Driven Restructuring of Cu Single Atoms to Nanoparticles for Boosting the Electrochemical Reduction of Nitrate to Ammonia\n",
      "Fetched abstract for: Sodium-Ion Battery Materials and Electrochemical Properties Reviewed\n",
      "Fetched abstract for: Recent Progress in Rechargeable Sodium-Ion Batteries: toward High-Power Applications\n",
      "Fetched abstract for: Rechargeable Zinc Alkaline Anodes for Long-Cycle Energy Storage\n",
      "Fetched abstract for: Stochastic coordinated operation of wind and battery energy storage system considering battery degradation\n",
      "Fetched abstract for: Polyanion-type electrode materials for advanced sodium-ion batteries\n",
      "Fetched abstract for: Assessing new transmission and energy storage in achieving increasing renewable generation targets in a regional grid\n",
      "Fetched abstract for: Fiber Optic Sensing Technologies for Battery Management Systems and Energy Storage Applications\n",
      "Fetched abstract for: Challenges and Mitigation Measures in Power Systems with High Share of Renewables-The Australian Experience\n",
      "Fetched abstract for: State-of-Charge Balancing Control for ON/OFF-Line Internal Cells Using Hybrid Modular Multi-Level Converter and Parallel Modular Dual L-Bridge in a Grid-Scale Battery Energy Storage System\n",
      "Fetched abstract for: Investigating the role of nuclear power and battery storage in Hungary's energy transition using hourly resolution electricity market simulations\n",
      "Fetched abstract for: Using electrolytic hydrogen production and energy storage for balancing a low carbon electricity grid: Scenario assessments for India\n",
      "Fetched abstract for: Impacts of grid-scale battery systems on power system operation, case of Baltic region\n",
      "Fetched abstract for: Performance Evaluation Of Grid-scale Battery Energy Storage System Employing Virtual Synchronous Generator Control For Grid Code Compliance In Weak Grids\n",
      "Fetched abstract for: Early prediction of battery degradation in grid-scale battery energy storage system using extreme gradient boosting algorithm\n",
      "Fetched abstract for: Optimal day-ahead large-scale battery dispatch model for multi-regulation participation considering full timescale uncertainties\n",
      "Fetched abstract for: Detection of False Data Injection Attacks in Battery Stacks Using Input Noise-Aware Nonlinear State Estimation and Cumulative Sum Algorithms\n",
      "Fetched abstract for: Introduction to grid-scale battery energy storage system concepts and fire hazards\n",
      "Fetched abstract for: Optimal Grid Flexibility Assessment for Integration of Variable Renewable-Based Electricity Generation\n",
      "Fetched abstract for: Electrode Blocking Due to Redox Reactions in Aluminum Chloride-Sodium Iodide Molten Salts\n",
      "Fetched abstract for: A review of solar hybrid photovoltaic-thermal (PV-T) collectors and systems\n",
      "Fetched abstract for: A review on global warming potential, challenges and opportunities of renewable hydrogen production technologies\n",
      "Fetched abstract for: Weather Impact on Solar Farm Performance: A Comparative Analysis of Machine Learning Techniques\n",
      "Fetched abstract for: Voltage Sensorless Based Model Predictive Control With Battery Management System: For Solar PV Powered On-Board EV Charging\n",
      "Fetched abstract for: Generation of green hydrogen using self-sustained regenerative fuel cells: Opportunities and challenges\n",
      "Fetched abstract for: Design and investigation of PV string/central architecture for bayesian fusion technique using grey wolf optimization and flower pollination optimized algorithm\n",
      "Fetched abstract for: An improved genetic algorithm based fractional open circuit voltage MPPT for solar PV systems\n",
      "Fetched abstract for: Solar Energy: Applications, Trends Analysis, Bibliometric Analysis and Research Contribution to Sustainable Development Goals (SDGs)\n",
      "Fetched abstract for: Techno-economic assessment of green hydrogen and ammonia production from wind and solar energy in Iran\n",
      "Fetched abstract for: Synergies and potential of hybrid solar photovoltaic-thermal desalination technologies\n",
      "Fetched abstract for: Research on the evolution of China's photovoltaic technology innovation network from the perspective of patents\n",
      "Fetched abstract for: Electrolysis of low-grade and saline surface water\n",
      "Fetched abstract for: Wind speed forecasting based on the hybrid ensemble empirical mode decomposition and GA-BP neural network method\n",
      "Fetched abstract for: ERA5: The new champion of wind power modelling?\n",
      "Fetched abstract for: Feasibility study of an islanded microgrid in rural area consisting of PV, wind, biomass and battery energy storage system\n",
      "Fetched abstract for: Real-Time Energy Storage Management for Renewable Integration in Microgrid: An Off-Line Optimization Approach\n",
      "Fetched abstract for: Techno-economic optimization of hybrid photovoltaic/wind generation together with energy storage system in a stand-alone micro-grid subjected to demand response\n",
      "Fetched abstract for: Optimal Prediction Intervals of Wind Power Generation\n",
      "Fetched abstract for: Role of power-to-gas in an integrated gas and electricity system in Great Britain\n",
      "Fetched abstract for: Dealing with multiple decades of hourly wind and PV time series in energy models: A comparison of methods to reduce time resolution and the planning implications of inter-annual variability\n",
      "Fetched abstract for: The merit-order effect in the Italian power market: The impact of solar and wind generation on national wholesale electricity prices\n",
      "Fetched abstract for: The Impact of Economic Corridor and Tourism on Local Community's Quality of Life under One Belt One Road Context\n",
      "Fetched abstract for: Applications of Green Synthesized Metal Nanoparticles - a Review\n",
      "Fetched abstract for: The reformation of catalyst: From a trial-and-error synthesis to rational design\n",
      "Fetched abstract for: A review of carbon dots in synthesis strategy\n",
      "Fetched abstract for: Race to carbon neutrality in South Africa: What role does environmental technological innovation play?\n",
      "Fetched abstract for: Toward fostering environmental innovation in OECD countries: Do fiscal decentralization, carbon pricing, and renewable energy investments matter?\n",
      "Fetched abstract for: Enhancing resource efficiency through the utilization of the green bond market: An empirical analysis of Asian economies\n",
      "Fetched abstract for: Research on the evolution of China's photovoltaic technology innovation network from the perspective of patents\n",
      "Fetched abstract for: Recent advancement and assessment of green hydrogen production technologies\n",
      "Fetched abstract for: Modeling the linkage between climate-tech, energy transition, and CO2 emissions: Do environmental regulations matter?\n",
      "Fetched abstract for: Green innovation, foreign investment and carbon emissions: a roadmap to sustainable development via green energy and energy efficiency for BRICS economies\n",
      "Fetched abstract for: A short review on generation of green fuel hydrogen through water splitting\n",
      "Fetched abstract for: Novel Pt-carbon core-shell decorated hierarchical CoMo2S4 as efficient electrocatalysts for alkaline/seawater hydrogen evolution reaction\n",
      "Fetched abstract for: Tuning Mass Transport in Electrocatalysis Down to Sub-5 nm through Nanoscale Grade Separation\n",
      "Fetched abstract for: Photocatalytic H2O2 production Systems: Design strategies and environmental applications\n",
      "Fetched abstract for: La- and Mn-doped cobalt spinel oxygen evolution catalyst for proton exchange membrane electrolysis\n",
      "Fetched abstract for: Arming Ru with Oxygen-Vacancy-Enriched RuO2 Sub-Nanometer Skin Activates Superior Bifunctionality for pH-Universal Overall Water Splitting\n",
      "Fetched abstract for: Electrochemical C-N coupling of CO2 and nitrogenous small molecules for the electrosynthesis of organonitrogen compounds\n",
      "Fetched abstract for: Electrocatalytic seawater splitting: Nice designs, advanced strategies, challenges and perspectives\n",
      "Fetched abstract for: Strategies to save energy in the context of the energy crisis: a review\n",
      "Fetched abstract for: The reformation of catalyst: From a trial-and-error synthesis to rational design\n",
      "Fetched abstract for: Highly efficient adsorption and removal bio-staining dye from industrial wastewater onto mesoporous Ag-MOFs\n",
      "Fetched abstract for: Environmental impact of renewable energy source based electrical power plants: Solar, wind, hydroelectric, biomass, geothermal, tidal, ocean, and osmotic\n",
      "Fetched abstract for: Bacterial Growth-Induced Tobramycin Smart Release Self-Healing Hydrogel for Pseudomonas aeruginosa-Infected Burn Wound Healing\n",
      "Fetched abstract for: The economics and the environmental benignity of different colors of hydrogen\n",
      "Fetched abstract for: Optimal economic scheduling of microgrids considering renewable energy sources based on energy hub model using demand response and improved water wave optimization algorithm\n",
      "Fetched abstract for: A comprehensive study of renewable energy sources: Classifications, challenges and suggestions\n",
      "Fetched abstract for: Data-driven probabilistic machine learning in sustainable smart energy/smart energy systems: Key developments, challenges, and future research opportunities in the context of smart grid paradigm\n",
      "Fetched abstract for: Semi-supervised adversarial discriminative learning approach for intelligent fault diagnosis of wind turbine\n",
      "Fetched abstract for: Model Predictive Current Control of Nine-Phase Open-End Winding PMSMs With an Online Virtual Vector Synthesis Strategy\n",
      "Fetched abstract for: Risk-constrained stochastic scheduling for energy hub: Integrating renewables, demand response, and electric vehicles\n",
      "Done! Check papers_with_abstracts.csv for results.\n"
     ]
    }
   ],
   "source": [
    "import csv\n",
    "import time\n",
    "\n",
    "ELSEVIER_API_KEY\n",
    "\n",
    "def get_abstract_from_crossref(doi):\n",
    "    doi = doi[18:]\n",
    "    url = f\"https://api.crossref.org/works/{doi}\"\n",
    "    response = requests.get(url)\n",
    "    if response.status_code == 200:\n",
    "        data = response.json()\n",
    "        return data['message'].get('abstract')\n",
    "    return None\n",
    "\n",
    "def get_abstract_from_elsevier(doi):\n",
    "    doi = doi[18:]\n",
    "    url = f\"https://api.elsevier.com/content/article/doi/{doi}?httpAccept=application/json\"\n",
    "    headers = {\n",
    "        \"X-ELS-APIKey\": ELSEVIER_API_KEY,\n",
    "        \"Accept\": \"application/json\"\n",
    "    }\n",
    "    response = requests.get(url, headers=headers)\n",
    "    if response.status_code == 200:\n",
    "        data = response.json()\n",
    "        return data.get('full-text-retrieval-response', {}).get('coredata', {}).get('dc:description')\n",
    "    return None\n",
    "\n",
    "def get_abstract(doi):\n",
    "    abstract = get_abstract_from_crossref(doi)\n",
    "    if abstract:\n",
    "        return abstract\n",
    "    else:\n",
    "        abstract = get_abstract_from_elsevier(doi)\n",
    "        if abstract:\n",
    "            return abstract\n",
    "    return None\n",
    "\n",
    "papers = []\n",
    "with open('data.csv', 'r') as file:\n",
    "    csv_reader = csv.reader(file)\n",
    "    next(csv_reader)\n",
    "    for row in csv_reader:\n",
    "        papers.append({'Name': row[0], 'DOI': row[1]})\n",
    "\n",
    "for paper in papers:\n",
    "    paper['abstract'] = get_abstract(paper['DOI'])\n",
    "    print(f\"Fetched abstract for: {paper['Name']}\")\n",
    "    time.sleep(2) \n",
    "\n",
    "with open('papers_with_abstracts.csv', 'w', newline='', encoding='utf-8') as file:\n",
    "    writer = csv.writer(file)\n",
    "    writer.writerow(['Name','abstract'])\n",
    "    for paper in papers:\n",
    "        writer.writerow([paper['Name'], paper['abstract']])\n",
    "\n",
    "print(\"Done! Check papers_with_abstracts.csv for results.\")"
   ]
  },
  {
   "cell_type": "code",
   "execution_count": 5,
   "metadata": {},
   "outputs": [],
   "source": [
    "df2 = pd.read_csv('papers_with_abstracts.csv')"
   ]
  },
  {
   "cell_type": "code",
   "execution_count": 6,
   "metadata": {},
   "outputs": [
    {
     "data": {
      "text/plain": [
       "0    \\n                  As a carbon-free molecule,...\n",
       "Name: abstract, dtype: object"
      ]
     },
     "execution_count": 6,
     "metadata": {},
     "output_type": "execute_result"
    }
   ],
   "source": [
    "df2.loc[df2['Name'] == 'Recent advances in ammonia synthesis technologies: Toward future zero carbon emissions']['abstract']"
   ]
  },
  {
   "cell_type": "code",
   "execution_count": 7,
   "metadata": {},
   "outputs": [
    {
     "data": {
      "text/plain": [
       "abstract\n",
       "Photovoltaic (PV) technology, as a low-carbon energy technology, is crucial to mitigating climate change and achieving sustainable development. China has the largest total number of PV technology patents in the world, but the lack of core technologies has restricted the further innovative development of China's PV industry. Therefore, it is necessary to clarify China's current PV technology accumulation to better catch up with key technology areas. To clearly describe the structural characteristics of China's PV technology innovation network, this study uses China's patent PV technology data over the past 20 years from the Incopat global patent database and analyses the structural characteristics of the network from the perspectives of one-mode and two-mode networks, using method of social network analysis (SNA). The results show that 1) the leading PV enterprises have basically formed relatively stable internal collaborations and that the scale of innovation network development has expanded rapidly, with very strong stamina; 2) with the development of China's PV industry, many innovative PV techniques have been developed by leading enterprises in the field of innovation and research and development (R&D) of PV technology, and among patent applicants with strong collaboration, kinship collaboration with investment relationships is dominant; 3) provinces participating in PV technology innovation are increasing significantly, the network is more influenced by leading nodes, and the eastern coastal provinces are pioneers in the innovation and R&D of PV technology; and 4) PV technological innovation collaboration between patent applicants and cities has changed from local collaboration to cross-regional collaboration, high-value areas are basically concentrated in the eastern coastal region of China, with scattered spatial characteristics, and cross-regional collaboration presents a “triangular” spatial structure, with the Yangtze River Delta, Pearl River Delta, and Beijing-Tianjin-Hebei as cores. The conclusions can provide patent information support for scientific research on energy conservation and emission reduction to achieve low-carbon goals, and can also provide reference for policy formulation of renewable energy development and green development strategies.    2\n",
       "\\n                  This paper presents a comprehensive technical and economic assessment of potential green hydrogen and ammonia production plants in different locations in Iran with strong wind and solar resources. The study was organized in five steps. First, regarding the wind density and solar PV potential data, three locations in Iran were chosen with the highest wind power, solar radiation, and a combination of both wind/solar energy. All these locations are inland spots, but since the produced ammonia is planned to be exported, it must be transported to the export harbor in the South of Iran. For comparison, a base case was also considered next to the export harbor with normal solar and wind potential, but no distance from the export harbor. In the second step, a similar large-scale hydrogen production facility with proton exchange membrane electrolyzers was modeled for all these locations using the HOMER Pro simulation platform. In the next step, the produced hydrogen and the nitrogen obtained from an air separation unit are supplied to a Haber-Bosch process to synthesize ammonia as a hydrogen carrier. Since water electrolysis requires a considerable amount of water with specific quality and because Iran suffers from water scarcity, this paper, unlike many similar research studies, addresses the challenges associated with the water supply system in the hydrogen production process. In this regard, in the fourth step of this study, it is assumed that seawater from the nearest sea is treated in a desalination plant and sent to the site locations. Finally, since this study intends to evaluate the possibility of green hydrogen export from Iran, a detailed piping model for the transportation of water, hydrogen, and ammonia from/to the production site and the export harbor is created in the last step, which considers the real routs using satellite images, and takes into account all pump/compression stations required to transport these media. This study provides a realistic cost of green hydrogen/ammonia production in Iran, which is ready to be exported, considering all related processes involved in the hydrogen supply chain.\\n                                                                                                                                            2\n",
       "\\n                  Electrochemical water electrolysis is a prominent method of green-hydrogen fuel production. Tailored nanostructures of Pt-based electrocatalysts have high priority in hydrogen production. Herein, we fabricated carbon-encapsulated Pt core–shell supported CoMo2S4-NGNF as an efficient electrocatalyst for the hydrogen evolution reaction (HER). The novel carbon-encapsulated Pt core shells improved the long-term durability. The Pt@CoMo2S4-NGNF hybrids displayed overpotentials of 27 mV to achieve a current density of 10 mA cm−2\\n                     in 1.0 M KOH and outstanding durability of 100 h. When Pt@CoMo2S4-NGNF∥IrO2 was employed in overall seawater electrolysis applications, it required 1.54 V to achieve a 10 mA cm−2\\n                     current density. Additionally, we evaluated the electronic structure and HER mechanism of Pt@CoMo2S4 & CoMo2S4 using density functional theory (DFT) calculations. This work illustrates the possibility of designing an effective, long-lasting, and scalable electrocatalyst for the electrolysis of alkaline and seawater to produce pure hydrogen.\\n                                                                                                                                                                                                                                                                                                                                                                                                                                                                                                                                                                                                                                                                                                                                                                                                                                                                                                                                                                                                                                                                                                                                                                                                                                        1\n",
       "\\n                  Renewable energy systems are proving to be promising and environment friendly sources of electricity generation, particularly, in countries with inadequate fossil fuel resources. In recent years, wind, solar photovoltaic (PV) and biomass based systems have been drawing more attention to provide electricity to isolated or energy deficient regions. This paper presents a hybrid PV-wind generation system along with biomass and storage to fulfill the electrical load demand of a small area. For optimal sizing of components, a recently introduced swarm based artificial bee colony (ABC) algorithm is applied. To verify the strength of the proposed technique, the results are compared with the results obtained from the standard software tool, hybrid optimization model for electric renewable (HOMER) and particle swarm optimization (PSO) algorithm. It has been verified from the results that the ABC algorithm has good convergence property and ability to provide good quality results. Further, for critical case such as the failure of any source, the behavior of the proposed system has been observed. It is evident from the results that the proposed scheme is able to manage a smooth power flow with the same optimal configuration.\\n                                                                                                                                                                                                                                                                                                                                                                                                                                                                                                                                                                                                                                                                                                                                                                                                                                                                                                                                                                                                                                                                                             1\n",
       "\\n                  Regarding the importance of supplying energy to regions that are far from power systems, this study is devoted to analyzing and modeling of a stand-alone micro-grid. In spite of many studies in the case of demand response programming for optimal management and operation cost reduction of the micro-grids, and regarding the importance of size optimization of micro-grids, this paper seeks to examine and investigate the ability of demand response programming in the case of component size optimization of a micro-grid. Due to deficiency or unavailability of dispatchable energy recourses, only the nondispatchable renewable energy resources (wind and solar energy) are considered to supply the required energy. Applied strategy for effective component size optimization as well as relevant costs reduction is implemented by reducing or eliminating the mismatch between the generation and consumption profiles by time shift and schedule of dispatchable loads. Furthermore, the effect of demand response utilization on loss of generated energy reduction is studied. The optimized results with and without demand response are extracted and compared to each other.\\n                  For each case, the optimum configuration was determined. Obtained results indicated that application of the demand response program, reduced the number of required batteries, the required inverter and photovoltaic cells capacity, and, consequently, the total net present costs. Furthermore, demand response implementation reduced the peak of consumed loads and increased the consumed load factor and correlation factor. The micro-grid components have been modeled mathematically within the framework of the mixed integer linear programming method. The optimization program has been performed by HOMER software together with GAMS software via the CPLEX solver.\\n                                                                                                                                                                                                                                                                                                                                                                                                                                                             1\n",
       "                                                                                                                                                                                                                                                                                                                                                                                                                                                                                                                                                                                                                                                                                                                                                                                                                                                                                                                                                                                                                                                                                                                                                                                                                                                                                                                                                                                                                                                                                                                                                                                                                                                                                                                                                                                                                                                                                                                                                                                                                                                                                                                                                                                                                                                                                                                                                                                                 ..\n",
       "\\n                  The ever-increasing energy demand, depleting fossil fuel reserves, and rising temperatures due to greenhouse gas emissions have necessitated the transition towards the generation of green and clean energy through renewable energy sources. Solar energy is one such renewable energy source that has received significant attention owing to its abundance and inexhaustibility. However, solar energy alone cannot replace fossil fuels in the energy portfolio. There exists a need to develop another clean energy source that can potentially act as an alternative to conventional fuels. Hydrogen proves to be an ideal candidate in this domain and can be sustainably generated by water electrolysis by powering the electrolyzer using solar energy. The hydrogen thus synthesized has net zero carbon emissions and is a suitable asset for decarbonizing the environment. This review encompasses the generation of hydrogen using PV-Electrolyzer systems and addresses the challenges associated with the same. Overcoming these drawbacks can ensure a strong position for hydrogen as an alternative fuel in the energy infrastructure. By employing electrolyzers that are fueled by renewable energy and then using that hydrogen to feed a fuel cell, this study aims to clarify the potential and constraints of producing green hydrogen. Since this area of research has not yet been fully investigated, a review article that enables and encourages academics to develop original solutions is urgently needed.\\n                                                                                                                                                                                                                                                                                                                                                                                                                                                                                                                                                                                                                                                                                                                                                                                                                                1\n",
       "\\n                  One of the most essential factors in the current study is effectively harvesting the Maximum Power Extraction (MPE) from the Photovoltaic (PV) panel. The primary difficulties in extracting solar power is occurrence of partial shading which causes the panel to significantly increases power loss. These will mainly occur due to when partially shaded solar PV array kept under certain critical conditions for obtaining maximum output power. Many researcher have suggested by connecting bypass diodes in anti-parallel to the PV modules hotspots in the modules can be avoided. Out of all techniques, the proposed Bayesian Fusion Technique (BFT) is a hybrid optimization algorithm that combines the Grey Wolf Optimization (GWO) and Flower Pollination Algorithm (FPA) techniques to optimize the performance of solar panels in photovoltaic (PV) systems. The combination of GWO and FPA forms an ideal combination that is beneficial for optimizing the performance of PV systems is determined in this work. In this study real 6*6 PV array string and irregular PV array configuration such as central and parallel-series PV string combination of various partial shading pattern is compared and found to be effective for reducing the hotspots problems. The performance of these configuration under different shading patterns have been compared and analyzed with the different parameters like output power, conversion efficiency and tracking efficiency. This article state about the influence of partial darkening and the crucial point that reduce the sensitivity to shading heaviness. For better understanding for reader the MATLAB/Simulink software is used to validate the simulation result with real time data. Overall, this article states the BFT is an efficient and reliable approach to improve the efficiency of PV systems, by combining two optimization techniques like GWO and FPA hybrid algorithm. This article gives clear insight to the researchers for choosing BFT-GWO algorithm in order to decrease the cost and wastage of energy for achieving better solar panel performance.\\n                                                                                                                                                                                                                    1\n",
       "To extract the maximum power from solar PV, maximum power point tracking (MPPT) controllers are needed to operate the PV arrays at their maximum power point under varying environmental conditions. Fractional Open Circuit Voltage (FOCV) is a simple, cost-effective, and easy to implement MPPT technique. However, it suffers from the discontinuous power supply and low tracking efficiency. To overcome these drawbacks, a new hybrid MPPT technique based on the Genetic Algorithm (GA) and FOCV is proposed. The proposed technique is based on a single decision variable, reducing the complexity and convergence time of the algorithm. MATLAB/Simulink is used to test the robustness of the proposed technique under uniform and non-uniform irradiance conditions. The performance is compared to the Perturb & Observe, Incremental Conductance, and other hybrid MPPT techniques. Furthermore, the efficacy of the proposed technique is also assessed against a commercial PV system’s power output over one day. The results demonstrate that the proposed GA-FOCV technique improves the efficiency of the conventional FOCV method by almost 3%, exhibiting an average tracking efficiency of 99.96% and tracking speed of around 0.07 s with minimal steady-state oscillations. Additionally, the proposed technique can also efficiently track the global MPP under partial shading conditions and offers faster tracking speed, higher efficiency, and fewer oscillations than other hybrid MPPT techniques.                                                                                                                                                                                                                                                                                                                                                                                                                                                                                                                                                                                                                                                                                                                                                                                                                                                             1\n",
       "<jats:p>Over the past decade, energy demand has witnessed a drastic increase, mainly due to huge development in the industry sector and growing populations. This has led to the global utilization of renewable energy resources and technologies to meet this high demand, as fossil fuels are bound to end and are causing harm to the environment. Solar PV (photovoltaic) systems are a renewable energy technology that allows the utilization of solar energy directly from the sun to meet electricity demands. Solar PV has the potential to create a reliable, clean and stable energy systems for the future. This paper discusses the different types and generations of solar PV technologies available, as well as several important applications of solar PV systems, which are “Large-Scale Solar PV”, “Residential Solar PV”, “Green Hydrogen”, “Water Desalination” and “Transportation”. This paper also provides research on the number of solar papers and their applications that relate to the Sustainable Development Goals (SDGs) in the years between 2011 and 2021. A total of 126,513 papers were analyzed. The results show that 72% of these papers are within SDG 7: Affordable and Clean Energy. This shows that there is a lack of research in solar energy regarding the SDGs, especially SDG 1: No Poverty, SDG 4: Quality Education, SDG 5: Gender Equality, SDG 9: Industry, Innovation and Infrastructure, SDG 10: Reduced Inequality and SDG 16: Peace, Justice and Strong Institutions. More research is needed in these fields to create a sustainable world with solar PV technologies.</jats:p>                                                                                                                                                                                                                                                                                                                                                                                                                                                                                                                                                                                                                                                                                                                                                        1\n",
       "\\n                  This research introduces a stochastic scheduling approach that incorporates risk constraints for an energy hub (EH), considering uncertainties related to renewable generation and load demands. The proposed method utilizes the Conditional Value at Risk (CVaR) technique to assess and quantify risks. By striking a balance between reducing operational and emissions costs and increasing risk aversion, the approach presents a trade-off. The EH comprises various components such as a wind turbine (WT), photovoltaic (PV) cells, a fuel cell power plant (FCPP), a combined heat and power generation unit (CHP), and plug-in electric vehicles (PEVs). Uncertain variables encompass factors such as wind speed, solar irradiation, different demands, and market prices. To optimize profits and enhance the consumption curve, demand response programs (DRPs) for electrical, thermal, and cooling demands are implemented. To address the uncertainties associated with input random variables, the efficient k-means data clustering method is employed. A new slime mold algorithm, based on coughing and chaos theory, has been proposed to enhance the problem's solution. The algorithm incorporates innovative operators to improve its capabilities. By utilizing the coughing mechanism and chaos theory, the algorithm explores the solution space more effectively, resulting in improved outcomes for the problem at hand. The results demonstrate significant flexibility in EH management and are extensively discussed. Simulation results indicate that integrating PEVs, FCPP, and DRPs can lead to reductions of 2 %, 7 %, and 11 % in the EH's operating costs, respectively. Furthermore, considering PEVs, FCPP, and DRPs can improve the EH's risk cost by 1.98 %, 6.7 %, and 10.5 %, respectively. Based on the numerical results, in Case 4 led to a remarkable 12.65 % reduction in operational costs while simultaneously achieving a 15.43 % decrease in emission costs, showcasing the effectiveness of the proposed approach in optimizing energy management in an energy hub system.\\n                                                                                                                                                                                                                                          1\n",
       "Name: count, Length: 64, dtype: int64"
      ]
     },
     "execution_count": 7,
     "metadata": {},
     "output_type": "execute_result"
    }
   ],
   "source": [
    "df2['abstract'].value_counts()"
   ]
  },
  {
   "cell_type": "code",
   "execution_count": 8,
   "metadata": {},
   "outputs": [],
   "source": [
    "df2 = df2.dropna(subset=['abstract'])\n",
    "df2 = df2.reset_index(drop=True)"
   ]
  },
  {
   "cell_type": "code",
   "execution_count": 230,
   "metadata": {},
   "outputs": [
    {
     "name": "stderr",
     "output_type": "stream",
     "text": [
      "[nltk_data] Downloading package punkt to\n",
      "[nltk_data]     /Users/arpanmukhopadhyay/nltk_data...\n",
      "[nltk_data]   Package punkt is already up-to-date!\n",
      "[nltk_data] Downloading package stopwords to\n",
      "[nltk_data]     /Users/arpanmukhopadhyay/nltk_data...\n",
      "[nltk_data]   Package stopwords is already up-to-date!\n",
      "[nltk_data] Downloading package wordnet to\n",
      "[nltk_data]     /Users/arpanmukhopadhyay/nltk_data...\n",
      "[nltk_data]   Package wordnet is already up-to-date!\n"
     ]
    },
    {
     "data": {
      "text/plain": [
       "True"
      ]
     },
     "execution_count": 230,
     "metadata": {},
     "output_type": "execute_result"
    }
   ],
   "source": [
    "nltk.download('punkt')\n",
    "nltk.download('stopwords')\n",
    "nltk.download('wordnet')"
   ]
  },
  {
   "cell_type": "code",
   "execution_count": 468,
   "metadata": {},
   "outputs": [],
   "source": [
    "lemmatizer = WordNetLemmatizer()\n",
    "stop_words = set(stopwords.words('english'))\n",
    "\n",
    "\n",
    "def preprocess_text(text):\n",
    "    if pd.isna(text):\n",
    "        return None\n",
    "\n",
    "    text = text.lower()\n",
    "    \n",
    "    text = re.sub(r'<jats:[^>]+>|<\\/jats:[^>]+>', '', text)\n",
    "    text = re.sub(r'[/\\-]', ' ', text)\n",
    "    text = re.sub(r'abstract',' ',text)\n",
    "    text = re.sub(r'\\S*@\\S*\\s?', '', text)\n",
    "    text = re.sub(r'\\b(?!\\d{4}\\b)\\d+\\b', '', text)\n",
    "    text = re.sub(r'[^\\w\\s\\[\\]]', '', text)\n",
    "    text = re.sub(r'\\s+', ' ', text).strip()\n",
    "\n",
    "    tokens = word_tokenize(text)\n",
    "    \n",
    "    tokens = [token for token in tokens if token not in stop_words]\n",
    "    \n",
    "    processed_tokens = [lemmatizer.lemmatize(token) for token in tokens]\n",
    "    \n",
    "    return ' '.join(processed_tokens)\n",
    "\n",
    "df2['processed abstracts'] = df2['abstract'].apply(preprocess_text)"
   ]
  },
  {
   "cell_type": "code",
   "execution_count": 469,
   "metadata": {},
   "outputs": [
    {
     "data": {
      "text/plain": [
       "'<jats:title>Abstract</jats:title><jats:p>Synthesis of green ammonia (NH<jats:sub>3</jats:sub>) via electrolysis of nitric oxide (NO) is extraordinarily sustainable, but multielectron/proton‐involved hydrogenation steps as well as low concentrations of NO can lead to poor activities and selectivities of electrocatalysts. Herein, it is reported that oxygen‐defective TiO<jats:sub>2</jats:sub> nanoarray supported on Ti plate (TiO<jats:sub>2−</jats:sub><jats:italic><jats:sub>x</jats:sub></jats:italic>/TP) behaves as an efficient catalyst for NO reduction to NH<jats:sub>3</jats:sub>. In 0.2\\xa0<jats:sc>m</jats:sc> phosphate‐buffered electrolyte, such TiO<jats:sub>2−</jats:sub><jats:italic><jats:sub>x</jats:sub></jats:italic>/TP shows competitive electrocatalytic NH<jats:sub>3</jats:sub> synthesis activity with a maximum NH<jats:sub>3</jats:sub> yield of 1233.2\\xa0µg\\xa0h<jats:sup>−1</jats:sup>\\xa0cm<jats:sup>−2</jats:sup> and Faradaic efficiency of 92.5%. Density functional theory calculations further thermodynamically faster NO deoxygenation and protonation processes on TiO<jats:sub>2−</jats:sub><jats:italic><jats:sub>x</jats:sub></jats:italic> (101) compared to perfect TiO<jats:sub>2</jats:sub> (101). And the low energy barrier of 0.7\\xa0eV on TiO<jats:sub>2−</jats:sub><jats:italic><jats:sub>x</jats:sub></jats:italic> (101) for the potential‐determining step further highlights the greatly improved intrinsic activity. In addition, a Zn‐NO battery is fabricated with TiO<jats:sub>2−</jats:sub><jats:italic><jats:sub>x</jats:sub></jats:italic>/TP and Zn plate to obtain an NH<jats:sub>3</jats:sub> yield of 241.7\\xa0µg\\xa0h<jats:sup>−1</jats:sup>\\xa0cm<jats:sup>−2</jats:sup> while providing a peak power density of 0.84\\xa0mW\\xa0cm<jats:sup>−2</jats:sup>.</jats:p>'"
      ]
     },
     "execution_count": 469,
     "metadata": {},
     "output_type": "execute_result"
    }
   ],
   "source": [
    "df2.iloc[4]['abstract']"
   ]
  },
  {
   "cell_type": "code",
   "execution_count": 470,
   "metadata": {},
   "outputs": [
    {
     "data": {
      "text/plain": [
       "'synthesis green ammonia nh3 via electrolysis nitric oxide extraordinarily sustainable multielectron protoninvolved hydrogenation step well low concentration lead poor activity selectivity electrocatalysts herein reported oxygendefective tio2 nanoarray supported ti plate tio2x tp behaves efficient catalyst reduction nh3 phosphatebuffered electrolyte tio2x tp show competitive electrocatalytic nh3 synthesis activity maximum nh3 yield 1233 µg h cm faradaic efficiency density functional theory calculation thermodynamically faster deoxygenation protonation process tio2x compared perfect tio2 low energy barrier ev tio2x potentialdetermining step highlight greatly improved intrinsic activity addition znno battery fabricated tio2x tp zn plate obtain nh3 yield µg h cm providing peak power density mw cm'"
      ]
     },
     "execution_count": 470,
     "metadata": {},
     "output_type": "execute_result"
    }
   ],
   "source": [
    "df2.iloc[4]['processed abstracts']"
   ]
  },
  {
   "cell_type": "code",
   "execution_count": 471,
   "metadata": {},
   "outputs": [
    {
     "data": {
      "text/plain": [
       "0     carbon free molecule ammonia gained great glob...\n",
       "1     although photocatalytic nitrogen reduction rea...\n",
       "2     shipping industry reached higher level maturit...\n",
       "3     rising concern dependence modern energy system...\n",
       "4     synthesis green ammonia nh3 via electrolysis n...\n",
       "                            ...                        \n",
       "61    unpredictable nature renewable energy source p...\n",
       "62    renewable energy key element sustainable envir...\n",
       "63    current trend indicates energy demand supply e...\n",
       "64    wind turbine play crucial role renewable energ...\n",
       "65    research introduces stochastic scheduling appr...\n",
       "Name: processed abstracts, Length: 66, dtype: object"
      ]
     },
     "execution_count": 471,
     "metadata": {},
     "output_type": "execute_result"
    }
   ],
   "source": [
    "df2['processed abstracts']"
   ]
  },
  {
   "cell_type": "code",
   "execution_count": 472,
   "metadata": {},
   "outputs": [
    {
     "name": "stdout",
     "output_type": "stream",
     "text": [
      "(66, 2476)\n"
     ]
    }
   ],
   "source": [
    "from sklearn.feature_extraction.text import TfidfVectorizer\n",
    "\n",
    "def vectorize_texts(texts):\n",
    "    vectorizer = TfidfVectorizer()\n",
    "    vectors = vectorizer.fit_transform(texts)\n",
    "    terms = vectorizer.get_feature_names_out()\n",
    "    return vectors,terms\n",
    "\n",
    "vectors, terms = vectorize_texts(df2['processed abstracts'])\n",
    "\n",
    "print(vectors.shape)"
   ]
  }
 ],
 "metadata": {
  "kernelspec": {
   "display_name": "myenv",
   "language": "python",
   "name": "python3"
  },
  "language_info": {
   "codemirror_mode": {
    "name": "ipython",
    "version": 3
   },
   "file_extension": ".py",
   "mimetype": "text/x-python",
   "name": "python",
   "nbconvert_exporter": "python",
   "pygments_lexer": "ipython3",
   "version": "3.10.13"
  }
 },
 "nbformat": 4,
 "nbformat_minor": 2
}
